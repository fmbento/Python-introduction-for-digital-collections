{
  "nbformat": 4,
  "nbformat_minor": 0,
  "metadata": {
    "kernelspec": {
      "display_name": "Python 3",
      "language": "python",
      "name": "python3"
    },
    "language_info": {
      "codemirror_mode": {
        "name": "ipython",
        "version": 3
      },
      "file_extension": ".py",
      "mimetype": "text/x-python",
      "name": "python",
      "nbconvert_exporter": "python",
      "pygments_lexer": "ipython3",
      "version": "3.6.9"
    },
    "colab": {
      "name": "01_bnb_lod_Compare_Resources_by_2_subjects.ipynb",
      "provenance": [],
      "include_colab_link": true
    }
  },
  "cells": [
    {
      "cell_type": "markdown",
      "metadata": {
        "id": "view-in-github",
        "colab_type": "text"
      },
      "source": [
        "<a href=\"https://colab.research.google.com/github/fmbento/Python-introduction-for-digital-collections/blob/master/LOD_SPARQL/01_bnb_lod_Compare_Resources_by_two_subjects.ipynb\" target=\"_parent\"><img src=\"https://colab.research.google.com/assets/colab-badge.svg\" alt=\"Open In Colab\"/></a>"
      ]
    },
    {
      "cell_type": "markdown",
      "metadata": {
        "id": "TU0Elp2wIoK_",
        "colab_type": "text"
      },
      "source": [
        "# BNB -- SPARQL query - Compare resources by two Subjects\n",
        "\n",
        "The [BNB Linked Data Platform](https://bnb.data.bl.uk/) provides access to the [British National Bibliography (BNB)](http://www.bl.uk/bibliographic/natbib.html) published as linked open data and made available through SPARQL services. \n",
        "\n",
        "This notebook explains how to query it to retrieve records of resources indexed under two given Subjects / Topics (LCSH), and compares them regarding their publication date."
      ]
    },
    {
      "cell_type": "markdown",
      "metadata": {
        "id": "rkWxy-LgIoLB",
        "colab_type": "text"
      },
      "source": [
        "## Define the Subjects to Compare\n",
        "\n",
        "Set the Subject to search from [LCSH list](http://id.loc.gov/authorities/subjects.html):"
      ]
    },
    {
      "cell_type": "code",
      "metadata": {
        "id": "jbYUkXcXIoLC",
        "colab_type": "code",
        "colab": {}
      },
      "source": [
        "# Examples -- uncomment the desired subject, or added your own set of Subject and Label, and do \"Run\" or \"Runtime\" > \"Run all\" or \"Run all cells\":\n",
        "\n",
        "Label = ''\n",
        "\n",
        "# Subject = 'Nanotubes'\n",
        "# Label = 'Nanotubes'\n",
        "\n",
        "Subject1 = 'Climaticchanges'\n",
        "Label1 = 'Climatic Changes'\n",
        "\n",
        "Subject2 = 'Globalwarming'\n",
        "Label2 = 'Global Warming'"
      ],
      "execution_count": 0,
      "outputs": []
    },
    {
      "cell_type": "markdown",
      "metadata": {
        "id": "qt0a7zDeIoLH",
        "colab_type": "text"
      },
      "source": [
        "#### Required modules / libraries"
      ]
    },
    {
      "cell_type": "code",
      "metadata": {
        "id": "grVj5kG8IoLH",
        "colab_type": "code",
        "colab": {}
      },
      "source": [
        "import requests\n",
        "import pandas as pd\n",
        "import json\n",
        "import csv\n",
        "import matplotlib.pyplot as plt\n",
        "from pandas import json_normalize"
      ],
      "execution_count": 0,
      "outputs": []
    },
    {
      "cell_type": "markdown",
      "metadata": {
        "id": "OGC6e5K8IoLL",
        "colab_type": "text"
      },
      "source": [
        "## Let's query the repository by asking the publications indexed by the defined Subjects\n",
        "We will use the [SPARQL endpoint](https://bnb.data.bl.uk/flint-sparql) to create the query and configure the request to retrieve json as a result."
      ]
    },
    {
      "cell_type": "code",
      "metadata": {
        "id": "orhVTXt0IoLL",
        "colab_type": "code",
        "outputId": "408ef442-7ee7-42a0-8943-cd4ac0bdfb0c",
        "colab": {
          "base_uri": "https://localhost:8080/",
          "height": 34
        }
      },
      "source": [
        "url = 'https://bnb.data.bl.uk/sparql'\n",
        "query = \"\"\"\n",
        "PREFIX bibo: <http://purl.org/ontology/bibo/> \n",
        "PREFIX dct: <http://purl.org/dc/terms/> \n",
        "PREFIX schema: <http://schema.org/> \n",
        "PREFIX rdfs: <http://www.w3.org/2000/01/rdf-schema#> \n",
        "\n",
        "SELECT ?resource ?isbn ?title ?date ?author ?authorUri WHERE {{\n",
        "      ?resource dct:subject <http://bnb.data.bl.uk/id/concept/lcsh/{0}>;  \n",
        "            dct:title ?title ; \n",
        "            schema:author ?authorUri ; \n",
        "            schema:datePublished ?date . \n",
        "      ?authorUri rdfs:label ?author .\n",
        "}}  \n",
        "\"\"\"\n",
        "\n",
        "# Query for Subject 1\n",
        "query1 = query.format(Subject1)\n",
        "\n",
        "# use json as a result\n",
        "headers = {'Accept': 'application/sparql-results+json'}\n",
        "r = requests.get(url, params = {'format': 'application/sparql-results+json', 'query': query1}, headers=headers)\n",
        "print('Records retrieved for subject ' + Label1)\n"
      ],
      "execution_count": 31,
      "outputs": [
        {
          "output_type": "stream",
          "text": [
            "Records retrieved for subject Climatic Changes\n"
          ],
          "name": "stdout"
        }
      ]
    },
    {
      "cell_type": "code",
      "metadata": {
        "id": "_LQpszOt0vZw",
        "colab_type": "code",
        "colab": {}
      },
      "source": [
        "# print(r.text)"
      ],
      "execution_count": 0,
      "outputs": []
    },
    {
      "cell_type": "markdown",
      "metadata": {
        "id": "IPV7YE5QIoLS",
        "colab_type": "text"
      },
      "source": [
        "## Load the data into DataFrames"
      ]
    },
    {
      "cell_type": "code",
      "metadata": {
        "id": "0G0_FjkEIoLT",
        "colab_type": "code",
        "outputId": "8b3787b9-ad5a-480f-817e-66cbe36d6cd3",
        "colab": {
          "base_uri": "https://localhost:8080/",
          "height": 267
        }
      },
      "source": [
        "bnbdata = json.loads(r.text)\n",
        "dfSub1 = json_normalize(bnbdata['results']['bindings']) \n",
        "dfSub1.head(2)"
      ],
      "execution_count": 33,
      "outputs": [
        {
          "output_type": "execute_result",
          "data": {
            "text/html": [
              "<div>\n",
              "<style scoped>\n",
              "    .dataframe tbody tr th:only-of-type {\n",
              "        vertical-align: middle;\n",
              "    }\n",
              "\n",
              "    .dataframe tbody tr th {\n",
              "        vertical-align: top;\n",
              "    }\n",
              "\n",
              "    .dataframe thead th {\n",
              "        text-align: right;\n",
              "    }\n",
              "</style>\n",
              "<table border=\"1\" class=\"dataframe\">\n",
              "  <thead>\n",
              "    <tr style=\"text-align: right;\">\n",
              "      <th></th>\n",
              "      <th>resource.type</th>\n",
              "      <th>resource.value</th>\n",
              "      <th>title.type</th>\n",
              "      <th>title.value</th>\n",
              "      <th>date.type</th>\n",
              "      <th>date.value</th>\n",
              "      <th>author.type</th>\n",
              "      <th>author.value</th>\n",
              "      <th>authorUri.type</th>\n",
              "      <th>authorUri.value</th>\n",
              "    </tr>\n",
              "  </thead>\n",
              "  <tbody>\n",
              "    <tr>\n",
              "      <th>0</th>\n",
              "      <td>uri</td>\n",
              "      <td>http://bnb.data.bl.uk/id/resource/019483741</td>\n",
              "      <td>literal</td>\n",
              "      <td>Dwelling in the age of climate change : the et...</td>\n",
              "      <td>literal</td>\n",
              "      <td>2019-08</td>\n",
              "      <td>literal</td>\n",
              "      <td>Kelly, Elaine</td>\n",
              "      <td>uri</td>\n",
              "      <td>http://bnb.data.bl.uk/id/person/KellyElaine</td>\n",
              "    </tr>\n",
              "    <tr>\n",
              "      <th>1</th>\n",
              "      <td>uri</td>\n",
              "      <td>http://bnb.data.bl.uk/id/resource/019483741</td>\n",
              "      <td>literal</td>\n",
              "      <td>Dwelling in the age of climate change : the et...</td>\n",
              "      <td>literal</td>\n",
              "      <td>2019-08</td>\n",
              "      <td>literal</td>\n",
              "      <td>Kelly, Elaine</td>\n",
              "      <td>uri</td>\n",
              "      <td>http://bnb.data.bl.uk/id/person/KellyElaine</td>\n",
              "    </tr>\n",
              "  </tbody>\n",
              "</table>\n",
              "</div>"
            ],
            "text/plain": [
              "  resource.type  ...                              authorUri.value\n",
              "0           uri  ...  http://bnb.data.bl.uk/id/person/KellyElaine\n",
              "1           uri  ...  http://bnb.data.bl.uk/id/person/KellyElaine\n",
              "\n",
              "[2 rows x 10 columns]"
            ]
          },
          "metadata": {
            "tags": []
          },
          "execution_count": 33
        }
      ]
    },
    {
      "cell_type": "code",
      "metadata": {
        "id": "WMtokbR5Ew9j",
        "colab_type": "code",
        "outputId": "5066ede5-8210-446c-8e23-fd0aa59071b9",
        "colab": {
          "base_uri": "https://localhost:8080/",
          "height": 318
        }
      },
      "source": [
        "# Query for Subject 2\n",
        "query2 = query.format(Subject2)\n",
        "\n",
        "r = requests.get(url, params = {'format': 'application/sparql-results+json', 'query': query2}, headers=headers)\n",
        "print('Elements retrieved for subject ' + Label2)\n",
        "\n",
        "bnbdata = json.loads(r.text)\n",
        "dfSub2 = json_normalize(bnbdata['results']['bindings']) \n",
        "dfSub2.head(2)"
      ],
      "execution_count": 34,
      "outputs": [
        {
          "output_type": "stream",
          "text": [
            "Elements retrieved for subject Global Warming\n"
          ],
          "name": "stdout"
        },
        {
          "output_type": "execute_result",
          "data": {
            "text/html": [
              "<div>\n",
              "<style scoped>\n",
              "    .dataframe tbody tr th:only-of-type {\n",
              "        vertical-align: middle;\n",
              "    }\n",
              "\n",
              "    .dataframe tbody tr th {\n",
              "        vertical-align: top;\n",
              "    }\n",
              "\n",
              "    .dataframe thead th {\n",
              "        text-align: right;\n",
              "    }\n",
              "</style>\n",
              "<table border=\"1\" class=\"dataframe\">\n",
              "  <thead>\n",
              "    <tr style=\"text-align: right;\">\n",
              "      <th></th>\n",
              "      <th>resource.type</th>\n",
              "      <th>resource.value</th>\n",
              "      <th>title.type</th>\n",
              "      <th>title.value</th>\n",
              "      <th>date.type</th>\n",
              "      <th>date.value</th>\n",
              "      <th>author.type</th>\n",
              "      <th>author.value</th>\n",
              "      <th>authorUri.type</th>\n",
              "      <th>authorUri.value</th>\n",
              "    </tr>\n",
              "  </thead>\n",
              "  <tbody>\n",
              "    <tr>\n",
              "      <th>0</th>\n",
              "      <td>uri</td>\n",
              "      <td>http://bnb.data.bl.uk/id/resource/018543304</td>\n",
              "      <td>literal</td>\n",
              "      <td>Global climate change : turning knowledge into...</td>\n",
              "      <td>literal</td>\n",
              "      <td>2017-09</td>\n",
              "      <td>literal</td>\n",
              "      <td>Kitchen, David, 1956-</td>\n",
              "      <td>uri</td>\n",
              "      <td>http://bnb.data.bl.uk/id/person/KitchenDavid1956-</td>\n",
              "    </tr>\n",
              "    <tr>\n",
              "      <th>1</th>\n",
              "      <td>uri</td>\n",
              "      <td>http://bnb.data.bl.uk/id/resource/018543304</td>\n",
              "      <td>literal</td>\n",
              "      <td>Global climate change : turning knowledge into...</td>\n",
              "      <td>literal</td>\n",
              "      <td>2017-09</td>\n",
              "      <td>literal</td>\n",
              "      <td>Kitchen, David, 1956-</td>\n",
              "      <td>uri</td>\n",
              "      <td>http://bnb.data.bl.uk/id/person/KitchenDavid1956-</td>\n",
              "    </tr>\n",
              "  </tbody>\n",
              "</table>\n",
              "</div>"
            ],
            "text/plain": [
              "  resource.type  ...                                    authorUri.value\n",
              "0           uri  ...  http://bnb.data.bl.uk/id/person/KitchenDavid1956-\n",
              "1           uri  ...  http://bnb.data.bl.uk/id/person/KitchenDavid1956-\n",
              "\n",
              "[2 rows x 10 columns]"
            ]
          },
          "metadata": {
            "tags": []
          },
          "execution_count": 34
        }
      ]
    },
    {
      "cell_type": "markdown",
      "metadata": {
        "id": "DMgoGtlyIoLj",
        "colab_type": "text"
      },
      "source": [
        "## How many items?"
      ]
    },
    {
      "cell_type": "code",
      "metadata": {
        "id": "bDsScd1gIoLk",
        "colab_type": "code",
        "outputId": "353c9606-792a-49c8-959b-6dd5f7b3aaa6",
        "colab": {
          "base_uri": "https://localhost:8080/",
          "height": 51
        }
      },
      "source": [
        "# How many items for each Subject?\n",
        "print('Number of records retrieved for subject ' + Label1 + ': ' + str(len(dfSub1)))\n",
        "print('Number of records retrieved for subject ' + Label2 + ': ' + str(len(dfSub2)))\n"
      ],
      "execution_count": 35,
      "outputs": [
        {
          "output_type": "stream",
          "text": [
            "Number of records retrieved for subject Climatic Changes: 1211\n",
            "Number of records retrieved for subject Global Warming: 455\n"
          ],
          "name": "stdout"
        }
      ]
    },
    {
      "cell_type": "markdown",
      "metadata": {
        "id": "DXFWETl7IoLn",
        "colab_type": "text"
      },
      "source": [
        "### Let's count the number of Resources by author"
      ]
    },
    {
      "cell_type": "code",
      "metadata": {
        "id": "PjY-cqnqIoLo",
        "colab_type": "code",
        "outputId": "d9a3df03-e1f9-4403-a52c-5f892085fe13",
        "colab": {
          "base_uri": "https://localhost:8080/",
          "height": 238
        }
      },
      "source": [
        "#Subject 1\n",
        "resources_by_author_Sub1 = dfSub1['author.value'].value_counts()\n",
        "print('Rank of Authors about ' + Label1)\n",
        "resources_by_author_Sub1"
      ],
      "execution_count": 36,
      "outputs": [
        {
          "output_type": "stream",
          "text": [
            "Rank of Authors about Climatic Changes\n"
          ],
          "name": "stdout"
        },
        {
          "output_type": "execute_result",
          "data": {
            "text/plain": [
              "Dessler, Andrew Emory                     12\n",
              "Gribbin, John, 1946-                      12\n",
              "Houghton, J. T. (John Theodore), 1931-    12\n",
              "Bonan, Gordon B.                          10\n",
              "Gines, Julie K.                           10\n",
              "                                          ..\n",
              "Bergkamp, Gerardus Johannus Jacobus        1\n",
              "Armstrong, Eileen, B.A.                    1\n",
              "Gill, E. J.                                1\n",
              "Tielidze, Levan                            1\n",
              "Labohm, Hans H. J.                         1\n",
              "Name: author.value, Length: 596, dtype: int64"
            ]
          },
          "metadata": {
            "tags": []
          },
          "execution_count": 36
        }
      ]
    },
    {
      "cell_type": "code",
      "metadata": {
        "id": "lQs08YqyTeva",
        "colab_type": "code",
        "outputId": "408d0646-96a3-444b-de95-96839938f91a",
        "colab": {
          "base_uri": "https://localhost:8080/",
          "height": 238
        }
      },
      "source": [
        "#Subject 2\n",
        "resources_by_author_Sub2 = dfSub2['author.value'].value_counts()\n",
        "print('Rank of Authors about ' + Label2)\n",
        "resources_by_author_Sub2"
      ],
      "execution_count": 37,
      "outputs": [
        {
          "output_type": "stream",
          "text": [
            "Rank of Authors about Global Warming\n"
          ],
          "name": "stdout"
        },
        {
          "output_type": "execute_result",
          "data": {
            "text/plain": [
              "Houghton, J. T. (John Theodore), 1931-       18\n",
              "Hansen, James E. (James Edward), 1941-       12\n",
              "Johansen, Bruce E. (Bruce Elliott), 1950-    10\n",
              "Booker, Christopher                           8\n",
              "Lynas, Mark, 1973-                            8\n",
              "                                             ..\n",
              "Broecker, Wallace S., 1931-2019               1\n",
              "Fay, Marianne                                 1\n",
              "Worstall, Tim                                 1\n",
              "Hughes, Patsy                                 1\n",
              "Goldstein, Natalie                            1\n",
              "Name: author.value, Length: 218, dtype: int64"
            ]
          },
          "metadata": {
            "tags": []
          },
          "execution_count": 37
        }
      ]
    },
    {
      "cell_type": "markdown",
      "metadata": {
        "id": "5ty7tAEtIoL9",
        "colab_type": "text"
      },
      "source": [
        "### Create a chart to visualize the results\n",
        "First let's see a top of publication Dates:"
      ]
    },
    {
      "cell_type": "markdown",
      "metadata": {
        "id": "bzuMZwCSIoMH",
        "colab_type": "text"
      },
      "source": [
        "### Let's group the books by year"
      ]
    },
    {
      "cell_type": "code",
      "metadata": {
        "id": "D56P3lFPIoMJ",
        "colab_type": "code",
        "outputId": "07097eef-9b29-4299-ba26-3e9bc438b36e",
        "colab": {
          "base_uri": "https://localhost:8080/",
          "height": 119
        }
      },
      "source": [
        "# First we create a new column in pandas with the year\n",
        "dfSub1['year'] = pd.DatetimeIndex(dfSub1['date.value']).year\n",
        "dfSub2['year'] = pd.DatetimeIndex(dfSub2['date.value']).year\n",
        "\n",
        "# Check first five from Subject 1 books\n",
        "dfSub1['year'].head(5)"
      ],
      "execution_count": 38,
      "outputs": [
        {
          "output_type": "execute_result",
          "data": {
            "text/plain": [
              "0    2019\n",
              "1    2019\n",
              "2    2019\n",
              "3    2019\n",
              "4    2015\n",
              "Name: year, dtype: int64"
            ]
          },
          "metadata": {
            "tags": []
          },
          "execution_count": 38
        }
      ]
    },
    {
      "cell_type": "markdown",
      "metadata": {
        "id": "kWtHX4lZIoMc",
        "colab_type": "text"
      },
      "source": [
        "### Creating the chart of resources per year"
      ]
    },
    {
      "cell_type": "code",
      "metadata": {
        "id": "xgowNiOHJruE",
        "colab_type": "code",
        "outputId": "effd2d10-e9d1-4991-9ff8-34a1824d7a12",
        "colab": {
          "base_uri": "https://localhost:8080/",
          "height": 51
        }
      },
      "source": [
        "# .sort_index() is very important = sorts by year, instead of the the regular count number\n",
        "\n",
        "resources_by_year_Sub1 = dfSub1['year'].value_counts().sort_index()\n",
        "resources_by_year_Sub2 = dfSub2['year'].value_counts().sort_index()\n",
        "\n",
        "# let's check for Subject 1\n",
        "resources_by_year_Sub1"
      ],
      "execution_count": 41,
      "outputs": [
        {
          "output_type": "execute_result",
          "data": {
            "text/plain": [
              "1974    1\n",
              "Name: year, dtype: int64"
            ]
          },
          "metadata": {
            "tags": []
          },
          "execution_count": 41
        }
      ]
    },
    {
      "cell_type": "code",
      "metadata": {
        "id": "fbVlWepbZzPJ",
        "colab_type": "code",
        "colab": {
          "base_uri": "https://localhost:8080/",
          "height": 445
        },
        "outputId": "cd0bccec-9abb-4f29-f3b4-1c1a83686b90"
      },
      "source": [
        "plt.figure(figsize=(15,7))\n",
        "resources_by_year_Sub1.plot(marker='o', markerfacecolor='blue', markersize=1, color='skyblue', linewidth=2, label=Label1)\n",
        "resources_by_year_Sub2.plot(marker='x', color='orange', markersize=2, linewidth=2, label=Label2)\n",
        "plt.legend()"
      ],
      "execution_count": 71,
      "outputs": [
        {
          "output_type": "execute_result",
          "data": {
            "text/plain": [
              "<matplotlib.legend.Legend at 0x7f7f4e310438>"
            ]
          },
          "metadata": {
            "tags": []
          },
          "execution_count": 71
        },
        {
          "output_type": "display_data",
          "data": {
            "image/png": "[encoded data removed]",
            "text/plain": [
              "<Figure size 1080x504 with 1 Axes>"
            ]
          },
          "metadata": {
            "tags": [],
            "needs_background": "light"
          }
        }
      ]
    }
  ]
}